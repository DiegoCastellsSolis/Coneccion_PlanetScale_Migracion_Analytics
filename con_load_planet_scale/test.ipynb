{
 "cells": [
  {
   "cell_type": "code",
   "execution_count": 5,
   "metadata": {},
   "outputs": [],
   "source": [
    "#pip install pandas mysqlclient"
   ]
  },
  {
   "cell_type": "code",
   "execution_count": 9,
   "metadata": {},
   "outputs": [
    {
     "data": {
      "text/plain": [
       "'\\nconnection = MySQLdb.connect(\\n  host= os.getenv(\"DB_HOST\"),\\n  user=os.getenv(\"DB_USERNAME\"),\\n  passwd= os.getenv(\"DB_PASSWORD\"),\\n  db= os.getenv(\"DB_NAME\"),\\n  #autocommit = True,\\n  #ssl_mode = \"VERIFY_IDENTITY\",\\n  ssl = {\\n    #\"ca\": \"/etc/ssl/cert.pem\",\\n    \"rejectedUnauthorized\": False\\n  }\\n)\\n'"
      ]
     },
     "execution_count": 9,
     "metadata": {},
     "output_type": "execute_result"
    }
   ],
   "source": [
    "\n",
    "\"\"\"\n",
    "connection = MySQLdb.connect(\n",
    "  host= os.getenv(\"DB_HOST\"),\n",
    "  user=os.getenv(\"DB_USERNAME\"),\n",
    "  passwd= os.getenv(\"DB_PASSWORD\"),\n",
    "  db= os.getenv(\"DB_NAME\"),\n",
    "  #autocommit = True,\n",
    "  #ssl_mode = \"VERIFY_IDENTITY\",\n",
    "  ssl = {\n",
    "    #\"ca\": \"/etc/ssl/cert.pem\",\n",
    "    \"rejectedUnauthorized\": False\n",
    "  }\n",
    ")\n",
    "\"\"\""
   ]
  },
  {
   "cell_type": "code",
   "execution_count": 10,
   "metadata": {},
   "outputs": [],
   "source": [
    "from dotenv import load_dotenv\n",
    "load_dotenv()\n",
    "import os\n",
    "import MySQLdb\n",
    "import pandas as pd\n"
   ]
  },
  {
   "cell_type": "code",
   "execution_count": 21,
   "metadata": {},
   "outputs": [],
   "source": [
    "\n",
    "connection = MySQLdb.connect(\n",
    "  host= os.getenv(\"DB_HOST\"),\n",
    "  user=os.getenv(\"DB_USERNAME\"),\n",
    "  passwd= os.getenv(\"DB_PASSWORD\"),\n",
    "  db= os.getenv(\"DB_NAME\"), \n",
    "  ssl = { \n",
    "    \"rejectedUnauthorized\": False\n",
    "  }\n",
    ")"
   ]
  },
  {
   "cell_type": "code",
   "execution_count": 22,
   "metadata": {},
   "outputs": [
    {
     "name": "stdout",
     "output_type": "stream",
     "text": [
      "Tablas en la base de datos 'meson':\n",
      "dolar_price\n",
      "meli_cars\n"
     ]
    }
   ],
   "source": [
    "# Crea un cursor para ejecutar consultas\n",
    "cursor = connection.cursor()\n",
    "\n",
    "# Ejecuta la consulta \"USE meson;\" para seleccionar la base de datos \"meson\"\n",
    "cursor.execute(\"USE meson;\")\n",
    "\n",
    "# Ejecuta la consulta \"SHOW TABLES;\" para mostrar las tablas en la base de datos\n",
    "cursor.execute(\"SHOW TABLES;\") \n",
    "\n",
    "# Obtiene los resultados de la consulta \"SHOW TABLES;\"\n",
    "tables = cursor.fetchall()\n",
    "\n",
    "# Imprime la lista de tablas\n",
    "print(\"Tablas en la base de datos 'meson':\")\n",
    "for tab in tables:\n",
    "    print(tab[0])\n",
    "\n",
    "# Cierra el cursor y la conexión\n",
    "#cursor.close()\n",
    "#onnection.close()"
   ]
  },
  {
   "cell_type": "code",
   "execution_count": 24,
   "metadata": {},
   "outputs": [],
   "source": [
    "df = pd.read_csv('./dolar.csv')\n",
    "df = df.drop(\"Unnamed: 0\", axis=1)"
   ]
  },
  {
   "cell_type": "code",
   "execution_count": 25,
   "metadata": {},
   "outputs": [],
   "source": [
    "# Nombre de la tabla en la base de datos\n",
    "table_name = \"dolar_price\"\n",
    "\n",
    "# Inserta el DataFrame en la tabla\n",
    "#df.to_sql(table_name, con=connection, if_exists=\"append\", index=False)\n"
   ]
  },
  {
   "cell_type": "code",
   "execution_count": 26,
   "metadata": {},
   "outputs": [
    {
     "name": "stdout",
     "output_type": "stream",
     "text": [
      "Datos insertados con éxito.\n"
     ]
    }
   ],
   "source": [
    "# Nombre de la tabla en la base de datos\n",
    "table_name = \"dolar_price\"\n",
    "\n",
    "# Reemplaza los valores NaN con 0\n",
    "df = df.fillna(0)\n",
    "\n",
    "# Convierte el DataFrame a una lista de tuplas\n",
    "data = [tuple(row) for row in df.values]\n",
    "\n",
    "# Define la sentencia SQL de inserción\n",
    "insert_query = \"INSERT INTO {} (Date, Blue_Sell, Oficial_Sell, Blue_Buy, Oficial_Buy) VALUES (%s, %s, %s, %s, %s)\".format(table_name)\n",
    "\n",
    "try:\n",
    "    # Ejecuta la sentencia SQL de inserción\n",
    "    with connection.cursor() as cursor:\n",
    "        cursor.executemany(insert_query, data)\n",
    "\n",
    "    # Confirma los cambios en la base de datos\n",
    "    connection.commit()\n",
    "\n",
    "    print(\"Datos insertados con éxito.\")\n",
    "except MySQLdb.Error as e:\n",
    "    # En caso de error, deshace cualquier cambio pendiente y muestra un mensaje de error\n",
    "    connection.rollback()\n",
    "    print(\"Error al insertar datos:\", e)\n",
    "\n",
    "# Cierra la conexión\n",
    "#connection.close()"
   ]
  },
  {
   "cell_type": "code",
   "execution_count": 27,
   "metadata": {},
   "outputs": [
    {
     "name": "stderr",
     "output_type": "stream",
     "text": [
      "/tmp/ipykernel_5008/628907565.py:5: UserWarning: pandas only supports SQLAlchemy connectable (engine/connection) or database string URI or sqlite3 DBAPI2 connection. Other DBAPI2 objects are not tested. Please consider using SQLAlchemy.\n",
      "  dfx = pd.read_sql(sql_query, connection)\n"
     ]
    },
    {
     "data": {
      "text/html": [
       "<div>\n",
       "<style scoped>\n",
       "    .dataframe tbody tr th:only-of-type {\n",
       "        vertical-align: middle;\n",
       "    }\n",
       "\n",
       "    .dataframe tbody tr th {\n",
       "        vertical-align: top;\n",
       "    }\n",
       "\n",
       "    .dataframe thead th {\n",
       "        text-align: right;\n",
       "    }\n",
       "</style>\n",
       "<table border=\"1\" class=\"dataframe\">\n",
       "  <thead>\n",
       "    <tr style=\"text-align: right;\">\n",
       "      <th></th>\n",
       "      <th>id</th>\n",
       "      <th>Date</th>\n",
       "      <th>Blue_Sell</th>\n",
       "      <th>Oficial_Sell</th>\n",
       "      <th>Blue_Buy</th>\n",
       "      <th>Oficial_Buy</th>\n",
       "    </tr>\n",
       "  </thead>\n",
       "  <tbody>\n",
       "    <tr>\n",
       "      <th>0</th>\n",
       "      <td>1</td>\n",
       "      <td>2011-01-03</td>\n",
       "      <td>4.0</td>\n",
       "      <td>4.0</td>\n",
       "      <td>4.0</td>\n",
       "      <td>4.0</td>\n",
       "    </tr>\n",
       "    <tr>\n",
       "      <th>1</th>\n",
       "      <td>2</td>\n",
       "      <td>2011-01-04</td>\n",
       "      <td>4.0</td>\n",
       "      <td>4.0</td>\n",
       "      <td>4.0</td>\n",
       "      <td>4.0</td>\n",
       "    </tr>\n",
       "    <tr>\n",
       "      <th>2</th>\n",
       "      <td>3</td>\n",
       "      <td>2011-01-05</td>\n",
       "      <td>4.0</td>\n",
       "      <td>4.0</td>\n",
       "      <td>4.0</td>\n",
       "      <td>4.0</td>\n",
       "    </tr>\n",
       "    <tr>\n",
       "      <th>3</th>\n",
       "      <td>4</td>\n",
       "      <td>2011-01-06</td>\n",
       "      <td>4.0</td>\n",
       "      <td>4.0</td>\n",
       "      <td>4.0</td>\n",
       "      <td>4.0</td>\n",
       "    </tr>\n",
       "    <tr>\n",
       "      <th>4</th>\n",
       "      <td>5</td>\n",
       "      <td>2011-01-07</td>\n",
       "      <td>4.0</td>\n",
       "      <td>4.0</td>\n",
       "      <td>4.0</td>\n",
       "      <td>4.0</td>\n",
       "    </tr>\n",
       "    <tr>\n",
       "      <th>...</th>\n",
       "      <td>...</td>\n",
       "      <td>...</td>\n",
       "      <td>...</td>\n",
       "      <td>...</td>\n",
       "      <td>...</td>\n",
       "      <td>...</td>\n",
       "    </tr>\n",
       "    <tr>\n",
       "      <th>7731</th>\n",
       "      <td>7732</td>\n",
       "      <td>2023-10-02</td>\n",
       "      <td>790.0</td>\n",
       "      <td>347.0</td>\n",
       "      <td>800.0</td>\n",
       "      <td>367.0</td>\n",
       "    </tr>\n",
       "    <tr>\n",
       "      <th>7732</th>\n",
       "      <td>7733</td>\n",
       "      <td>2023-10-03</td>\n",
       "      <td>800.0</td>\n",
       "      <td>347.0</td>\n",
       "      <td>810.0</td>\n",
       "      <td>367.0</td>\n",
       "    </tr>\n",
       "    <tr>\n",
       "      <th>7733</th>\n",
       "      <td>7734</td>\n",
       "      <td>2023-10-04</td>\n",
       "      <td>833.0</td>\n",
       "      <td>347.0</td>\n",
       "      <td>843.0</td>\n",
       "      <td>367.0</td>\n",
       "    </tr>\n",
       "    <tr>\n",
       "      <th>7734</th>\n",
       "      <td>7735</td>\n",
       "      <td>2023-10-05</td>\n",
       "      <td>833.0</td>\n",
       "      <td>347.0</td>\n",
       "      <td>843.0</td>\n",
       "      <td>367.0</td>\n",
       "    </tr>\n",
       "    <tr>\n",
       "      <th>7735</th>\n",
       "      <td>7736</td>\n",
       "      <td>2023-10-06</td>\n",
       "      <td>870.0</td>\n",
       "      <td>347.0</td>\n",
       "      <td>880.0</td>\n",
       "      <td>367.0</td>\n",
       "    </tr>\n",
       "  </tbody>\n",
       "</table>\n",
       "<p>7736 rows × 6 columns</p>\n",
       "</div>"
      ],
      "text/plain": [
       "        id        Date  Blue_Sell  Oficial_Sell  Blue_Buy  Oficial_Buy\n",
       "0        1  2011-01-03        4.0           4.0       4.0          4.0\n",
       "1        2  2011-01-04        4.0           4.0       4.0          4.0\n",
       "2        3  2011-01-05        4.0           4.0       4.0          4.0\n",
       "3        4  2011-01-06        4.0           4.0       4.0          4.0\n",
       "4        5  2011-01-07        4.0           4.0       4.0          4.0\n",
       "...    ...         ...        ...           ...       ...          ...\n",
       "7731  7732  2023-10-02      790.0         347.0     800.0        367.0\n",
       "7732  7733  2023-10-03      800.0         347.0     810.0        367.0\n",
       "7733  7734  2023-10-04      833.0         347.0     843.0        367.0\n",
       "7734  7735  2023-10-05      833.0         347.0     843.0        367.0\n",
       "7735  7736  2023-10-06      870.0         347.0     880.0        367.0\n",
       "\n",
       "[7736 rows x 6 columns]"
      ]
     },
     "execution_count": 27,
     "metadata": {},
     "output_type": "execute_result"
    }
   ],
   "source": [
    "# Define la consulta SQL que deseas ejecutar\n",
    "sql_query = \"SELECT * FROM dolar_price\"\n",
    "\n",
    "# Ejecuta la consulta y almacena el resultado en un DataFrame\n",
    "dfx = pd.read_sql(sql_query, connection)\n",
    "dfx"
   ]
  }
 ],
 "metadata": {
  "kernelspec": {
   "display_name": "Python 3",
   "language": "python",
   "name": "python3"
  },
  "language_info": {
   "codemirror_mode": {
    "name": "ipython",
    "version": 3
   },
   "file_extension": ".py",
   "mimetype": "text/x-python",
   "name": "python",
   "nbconvert_exporter": "python",
   "pygments_lexer": "ipython3",
   "version": "3.10.12"
  }
 },
 "nbformat": 4,
 "nbformat_minor": 2
}
